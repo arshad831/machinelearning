{
 "cells": [
  {
   "cell_type": "code",
   "execution_count": 2,
   "metadata": {},
   "outputs": [
    {
     "name": "stdout",
     "output_type": "stream",
     "text": [
      "Collecting sklearn\n",
      "  Downloading sklearn-0.0.tar.gz (1.1 kB)\n",
      "Requirement already satisfied: scikit-learn in /Users/punitshah/opt/anaconda3/envs/greyatom/lib/python3.6/site-packages (from sklearn) (0.24.1)\n",
      "Requirement already satisfied: threadpoolctl>=2.0.0 in /Users/punitshah/opt/anaconda3/envs/greyatom/lib/python3.6/site-packages (from scikit-learn->sklearn) (2.1.0)\n",
      "Requirement already satisfied: numpy>=1.13.3 in /Users/punitshah/opt/anaconda3/envs/greyatom/lib/python3.6/site-packages (from scikit-learn->sklearn) (1.19.5)\n",
      "Requirement already satisfied: scipy>=0.19.1 in /Users/punitshah/opt/anaconda3/envs/greyatom/lib/python3.6/site-packages (from scikit-learn->sklearn) (1.5.4)\n",
      "Requirement already satisfied: joblib>=0.11 in /Users/punitshah/opt/anaconda3/envs/greyatom/lib/python3.6/site-packages (from scikit-learn->sklearn) (1.0.0)\n",
      "Building wheels for collected packages: sklearn\n",
      "  Building wheel for sklearn (setup.py) ... \u001b[?25ldone\n",
      "\u001b[?25h  Created wheel for sklearn: filename=sklearn-0.0-py2.py3-none-any.whl size=1316 sha256=f7d3258f5ef3c9e7f9c928a17de10321cab6e133df2d1cb09e3cca33ccdd8986\n",
      "  Stored in directory: /Users/punitshah/Library/Caches/pip/wheels/23/9d/42/5ec745cbbb17517000a53cecc49d6a865450d1f5cb16dc8a9c\n",
      "Successfully built sklearn\n",
      "Installing collected packages: sklearn\n",
      "Successfully installed sklearn-0.0\n"
     ]
    }
   ],
   "source": [
    "!pip install sklearn"
   ]
  },
  {
   "cell_type": "code",
   "execution_count": 11,
   "metadata": {},
   "outputs": [],
   "source": [
    "import numpy as np\n",
    "import pandas as pd\n",
    "import sklearn\n",
    "\n",
    "from matplotlib import pyplot as plt\n",
    "from sklearn.datasets import make_blobs\n",
    "from sklearn.cluster import KMeans"
   ]
  },
  {
   "cell_type": "code",
   "execution_count": 12,
   "metadata": {},
   "outputs": [],
   "source": [
    "#In this tutorial, we’ll generate our own data using the make_blobs function from the sklearn.datasets module. \n",
    "#The centers parameter specifies the number of clusters."
   ]
  },
  {
   "cell_type": "code",
   "execution_count": 21,
   "metadata": {},
   "outputs": [
    {
     "data": {
      "text/plain": [
       "<matplotlib.collections.PathCollection at 0x7ffadd04def0>"
      ]
     },
     "execution_count": 21,
     "metadata": {},
     "output_type": "execute_result"
    },
    {
     "data": {
      "image/png": "[encoded data removed]",
      "text/plain": [
       "<Figure size 432x288 with 1 Axes>"
      ]
     },
     "metadata": {
      "needs_background": "light"
     },
     "output_type": "display_data"
    }
   ],
   "source": [
    "X, y = make_blobs(n_samples=300,centers=4,cluster_std=0.90, random_state=0)\n",
    "plt.scatter(X[:,0], X[:,1])"
   ]
  },
  {
   "cell_type": "code",
   "execution_count": 3,
   "metadata": {},
   "outputs": [
    {
     "data": {
      "text/plain": [
       "array([[ 0.63378839,  2.34280866],\n",
       "       [-1.44122515,  7.33865044],\n",
       "       [ 1.1850368 ,  5.23225746],\n",
       "       [-0.98034307,  7.81149042],\n",
       "       [ 1.14069873,  2.05835514],\n",
       "       [ 3.66800921,  0.15565258],\n",
       "       [-1.85510894,  1.37687336],\n",
       "       [ 1.48663347,  4.39407536],\n",
       "       [-0.0310449 ,  8.53153609],\n",
       "       [-0.62157358,  8.79793486]])"
      ]
     },
     "execution_count": 3,
     "metadata": {},
     "output_type": "execute_result"
    }
   ],
   "source": [
    "#Training Examples\n",
    "X[:10]"
   ]
  },
  {
   "cell_type": "code",
   "execution_count": 75,
   "metadata": {},
   "outputs": [
    {
     "data": {
      "text/plain": [
       "array([1, 3, 0, 3, 1, 1, 2, 0, 3, 3])"
      ]
     },
     "execution_count": 75,
     "metadata": {},
     "output_type": "execute_result"
    }
   ],
   "source": [
    "#Target variables\n",
    "y[:10]"
   ]
  },
  {
   "cell_type": "code",
   "execution_count": 76,
   "metadata": {},
   "outputs": [],
   "source": [
    "#Lets define Kmeans model\n",
    "kmeans = KMeans(n_clusters=2, \n",
    "                init='k-means++', \n",
    "                max_iter=300, \n",
    "                n_init=10, \n",
    "                random_state=0)"
   ]
  },
  {
   "cell_type": "code",
   "execution_count": 77,
   "metadata": {},
   "outputs": [
    {
     "data": {
      "text/plain": [
       "KMeans(algorithm='auto', copy_x=True, init='k-means++', max_iter=300,\n",
       "       n_clusters=2, n_init=10, n_jobs=None, precompute_distances='auto',\n",
       "       random_state=0, tol=0.0001, verbose=0)"
      ]
     },
     "execution_count": 77,
     "metadata": {},
     "output_type": "execute_result"
    }
   ],
   "source": [
    "kmeans"
   ]
  },
  {
   "cell_type": "code",
   "execution_count": 78,
   "metadata": {},
   "outputs": [
    {
     "data": {
      "text/plain": [
       "KMeans(algorithm='auto', copy_x=True, init='k-means++', max_iter=300,\n",
       "       n_clusters=2, n_init=10, n_jobs=None, precompute_distances='auto',\n",
       "       random_state=0, tol=0.0001, verbose=0)"
      ]
     },
     "execution_count": 78,
     "metadata": {},
     "output_type": "execute_result"
    }
   ],
   "source": [
    "kmeans.fit(X)"
   ]
  },
  {
   "cell_type": "code",
   "execution_count": 79,
   "metadata": {},
   "outputs": [
    {
     "data": {
      "text/plain": [
       "array([[-1.31105838,  7.63388948],\n",
       "       [ 0.44413674,  2.65260238]])"
      ]
     },
     "execution_count": 79,
     "metadata": {},
     "output_type": "execute_result"
    }
   ],
   "source": [
    "#Get the co-ordinates for centroids\n",
    "kmeans.cluster_centers_"
   ]
  },
  {
   "cell_type": "code",
   "execution_count": 80,
   "metadata": {},
   "outputs": [
    {
     "data": {
      "text/plain": [
       "1266.0756797730642"
      ]
     },
     "execution_count": 80,
     "metadata": {},
     "output_type": "execute_result"
    }
   ],
   "source": [
    "#Within cluster sum of squares\n",
    "kmeans.inertia_"
   ]
  },
  {
   "cell_type": "code",
   "execution_count": 81,
   "metadata": {},
   "outputs": [
    {
     "data": {
      "image/png": "[encoded data removed]",
      "text/plain": [
       "<Figure size 432x288 with 1 Axes>"
      ]
     },
     "metadata": {
      "needs_background": "light"
     },
     "output_type": "display_data"
    }
   ],
   "source": [
    "#Lets implement elbow method\n",
    "\n",
    "wcss = []\n",
    "\n",
    "for i in range(1, 15):\n",
    "    kmeans = KMeans(n_clusters=i, init='k-means++', max_iter=300, n_init=10, random_state=0)\n",
    "    kmeans.fit(X)\n",
    "    wcss.append(kmeans.inertia_)\n",
    "\n",
    "plt.plot(range(1, 15), wcss)\n",
    "plt.title('Elbow Method')\n",
    "plt.xlabel('Number of clusters')\n",
    "plt.ylabel('WCSS')\n",
    "plt.show()"
   ]
  },
  {
   "cell_type": "code",
   "execution_count": 22,
   "metadata": {},
   "outputs": [],
   "source": [
    "#Implement clusters with 4 centers\n",
    "kmeans = KMeans(n_clusters=4, init='k-means++', max_iter=300, n_init=10, random_state=0)"
   ]
  },
  {
   "cell_type": "code",
   "execution_count": 23,
   "metadata": {},
   "outputs": [],
   "source": [
    "#Lets predict\n",
    "pred_y = kmeans.fit_predict(X)"
   ]
  },
  {
   "cell_type": "code",
   "execution_count": 24,
   "metadata": {},
   "outputs": [
    {
     "data": {
      "text/plain": [
       "array([1, 3, 2, 3, 0, 0, 1, 2, 3, 3, 1, 3, 2, 3, 0, 2, 2, 0, 1, 1, 0, 0,\n",
       "       2, 1, 1, 1, 0, 2, 1, 2, 3, 3, 2, 3, 3, 3, 3, 3, 1, 0, 2, 1, 3, 2,\n",
       "       1, 1, 3, 1, 3, 0, 1, 0, 3, 0, 0, 1, 3, 1, 3, 0, 3, 2, 3, 1, 1, 1,\n",
       "       3, 0, 3, 1, 2, 2, 3, 1, 1, 3, 1, 2, 0, 3, 0, 2, 0, 0, 3, 2, 0, 2,\n",
       "       3, 3, 2, 0, 3, 1, 1, 2, 0, 0, 2, 1, 3, 0, 3, 0, 2, 0, 0, 2, 3, 2,\n",
       "       1, 1, 0, 3, 0, 2, 3, 0, 0, 2, 1, 0, 1, 0, 0, 0, 0, 1, 0, 1, 3, 1,\n",
       "       1, 0, 3, 1, 1, 3, 1, 3, 3, 1, 2, 1, 2, 1, 3, 2, 3, 3, 3, 2, 2, 2,\n",
       "       0, 1, 3, 1, 0, 2, 3, 2, 2, 0, 2, 1, 1, 2, 0, 2, 2, 3, 0, 2, 1, 3,\n",
       "       0, 0, 2, 1, 0, 2, 1, 1, 2, 2, 2, 2, 0, 3, 1, 1, 2, 2, 1, 1, 1, 2,\n",
       "       1, 3, 2, 1, 0, 1, 2, 1, 1, 3, 2, 3, 2, 1, 2, 2, 3, 1, 1, 0, 0, 2,\n",
       "       3, 0, 0, 1, 0, 1, 1, 3, 3, 2, 2, 3, 2, 0, 1, 2, 0, 1, 3, 1, 0, 2,\n",
       "       0, 3, 3, 3, 3, 1, 1, 2, 2, 1, 0, 2, 1, 1, 2, 0, 0, 3, 2, 2, 1, 0,\n",
       "       3, 1, 2, 3, 2, 0, 0, 1, 1, 0, 0, 0, 0, 2, 3, 3, 0, 0, 2, 0, 0, 0,\n",
       "       3, 2, 3, 2, 0, 0, 3, 3, 3, 0, 0, 2, 3, 1], dtype=int32)"
      ]
     },
     "execution_count": 24,
     "metadata": {},
     "output_type": "execute_result"
    }
   ],
   "source": [
    "pred_y"
   ]
  },
  {
   "cell_type": "code",
   "execution_count": 25,
   "metadata": {},
   "outputs": [
    {
     "data": {
      "image/png": "[encoded data removed]",
      "text/plain": [
       "<Figure size 432x288 with 1 Axes>"
      ]
     },
     "metadata": {
      "needs_background": "light"
     },
     "output_type": "display_data"
    }
   ],
   "source": [
    "#Lets plot\n",
    "plt.scatter(X[:,0], X[:,1])\n",
    "plt.scatter(kmeans.cluster_centers_[:, 0], kmeans.cluster_centers_[:, 1], s=300, c='red')\n",
    "plt.show()"
   ]
  },
  {
   "cell_type": "code",
   "execution_count": 88,
   "metadata": {},
   "outputs": [
    {
     "data": {
      "text/plain": [
       "array([0, 3, 2, 3, 0, 0, 1, 2, 3, 3, 1, 3, 2, 3, 0, 2, 2, 0, 1, 1, 0, 0,\n",
       "       2, 1, 1, 2, 0, 2, 1, 2, 3, 3, 2, 3, 3, 3, 3, 3, 1, 0, 2, 1, 2, 2,\n",
       "       1, 1, 3, 1, 3, 0, 1, 0, 3, 0, 0, 1, 3, 1, 3, 0, 3, 2, 3, 1, 1, 1,\n",
       "       3, 0, 3, 1, 2, 1, 3, 1, 1, 3, 1, 2, 0, 3, 0, 2, 0, 0, 3, 2, 0, 2,\n",
       "       3, 3, 2, 0, 3, 1, 1, 2, 0, 0, 2, 1, 3, 0, 3, 0, 2, 0, 0, 2, 3, 2,\n",
       "       1, 1, 0, 3, 0, 2, 3, 0, 0, 2, 1, 0, 1, 0, 0, 0, 0, 1, 0, 1, 3, 1,\n",
       "       1, 0, 3, 1, 1, 3, 2, 3, 3, 1, 2, 1, 2, 1, 3, 2, 3, 3, 3, 2, 3, 2,\n",
       "       0, 1, 3, 1, 0, 2, 3, 2, 2, 0, 2, 1, 1, 2, 0, 2, 2, 3, 0, 2, 1, 3,\n",
       "       0, 0, 2, 1, 0, 2, 1, 1, 2, 2, 2, 2, 0, 3, 2, 1, 2, 2, 1, 1, 1, 2,\n",
       "       1, 3, 2, 1, 0, 1, 2, 3, 1, 3, 2, 3, 2, 1, 2, 2, 3, 1, 1, 0, 0, 2,\n",
       "       3, 0, 0, 1, 0, 1, 2, 3, 3, 2, 2, 3, 2, 0, 1, 2, 0, 1, 3, 1, 0, 2,\n",
       "       0, 3, 3, 3, 3, 1, 1, 3, 2, 1, 0, 2, 1, 1, 2, 0, 0, 3, 2, 2, 1, 0,\n",
       "       3, 1, 2, 3, 2, 0, 0, 1, 1, 2, 0, 0, 0, 2, 3, 3, 0, 0, 2, 0, 0, 0,\n",
       "       3, 1, 3, 2, 0, 0, 3, 3, 3, 0, 0, 2, 3, 1])"
      ]
     },
     "execution_count": 88,
     "metadata": {},
     "output_type": "execute_result"
    }
   ],
   "source": [
    "pred_y"
   ]
  },
  {
   "cell_type": "code",
   "execution_count": null,
   "metadata": {},
   "outputs": [],
   "source": []
  },
  {
   "cell_type": "code",
   "execution_count": null,
   "metadata": {},
   "outputs": [],
   "source": []
  },
  {
   "cell_type": "code",
   "execution_count": null,
   "metadata": {},
   "outputs": [],
   "source": []
  }
 ],
 "metadata": {
  "kernelspec": {
   "display_name": "Python 3",
   "language": "python",
   "name": "python3"
  },
  "language_info": {
   "codemirror_mode": {
    "name": "ipython",
    "version": 3
   },
   "file_extension": ".py",
   "mimetype": "text/x-python",
   "name": "python",
   "nbconvert_exporter": "python",
   "pygments_lexer": "ipython3",
   "version": "3.6.12"
  }
 },
 "nbformat": 4,
 "nbformat_minor": 4
}
